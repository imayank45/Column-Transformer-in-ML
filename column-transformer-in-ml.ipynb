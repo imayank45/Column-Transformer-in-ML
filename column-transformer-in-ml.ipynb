{
 "cells": [
  {
   "cell_type": "code",
   "execution_count": 1,
   "id": "559e1807",
   "metadata": {
    "_cell_guid": "b1076dfc-b9ad-4769-8c92-a6c4dae69d19",
    "_uuid": "8f2839f25d086af736a60e9eeb907d3b93b6e0e5",
    "execution": {
     "iopub.execute_input": "2024-01-23T15:16:13.015448Z",
     "iopub.status.busy": "2024-01-23T15:16:13.014797Z",
     "iopub.status.idle": "2024-01-23T15:16:13.403664Z",
     "shell.execute_reply": "2024-01-23T15:16:13.402558Z"
    },
    "papermill": {
     "duration": 0.398781,
     "end_time": "2024-01-23T15:16:13.406053",
     "exception": false,
     "start_time": "2024-01-23T15:16:13.007272",
     "status": "completed"
    },
    "tags": []
   },
   "outputs": [],
   "source": [
    "import numpy as np\n",
    "import pandas as pd"
   ]
  },
  {
   "cell_type": "code",
   "execution_count": 2,
   "id": "51b48af8",
   "metadata": {
    "execution": {
     "iopub.execute_input": "2024-01-23T15:16:13.419382Z",
     "iopub.status.busy": "2024-01-23T15:16:13.418423Z",
     "iopub.status.idle": "2024-01-23T15:16:14.980552Z",
     "shell.execute_reply": "2024-01-23T15:16:14.979297Z"
    },
    "papermill": {
     "duration": 1.571292,
     "end_time": "2024-01-23T15:16:14.983066",
     "exception": false,
     "start_time": "2024-01-23T15:16:13.411774",
     "status": "completed"
    },
    "tags": []
   },
   "outputs": [],
   "source": [
    "from sklearn.impute import SimpleImputer\n",
    "from sklearn.preprocessing import OneHotEncoder\n",
    "from sklearn.preprocessing import OrdinalEncoder"
   ]
  },
  {
   "cell_type": "code",
   "execution_count": 3,
   "id": "c8cd40d5",
   "metadata": {
    "execution": {
     "iopub.execute_input": "2024-01-23T15:16:14.996164Z",
     "iopub.status.busy": "2024-01-23T15:16:14.995474Z",
     "iopub.status.idle": "2024-01-23T15:16:15.015172Z",
     "shell.execute_reply": "2024-01-23T15:16:15.014341Z"
    },
    "papermill": {
     "duration": 0.02871,
     "end_time": "2024-01-23T15:16:15.017509",
     "exception": false,
     "start_time": "2024-01-23T15:16:14.988799",
     "status": "completed"
    },
    "tags": []
   },
   "outputs": [],
   "source": [
    "data = pd.read_csv('/kaggle/input/covid/covid_toy.csv')"
   ]
  },
  {
   "cell_type": "code",
   "execution_count": 4,
   "id": "bd92c87e",
   "metadata": {
    "execution": {
     "iopub.execute_input": "2024-01-23T15:16:15.030734Z",
     "iopub.status.busy": "2024-01-23T15:16:15.030081Z",
     "iopub.status.idle": "2024-01-23T15:16:15.036979Z",
     "shell.execute_reply": "2024-01-23T15:16:15.035892Z"
    },
    "papermill": {
     "duration": 0.015967,
     "end_time": "2024-01-23T15:16:15.039223",
     "exception": false,
     "start_time": "2024-01-23T15:16:15.023256",
     "status": "completed"
    },
    "tags": []
   },
   "outputs": [
    {
     "data": {
      "text/plain": [
       "(100, 6)"
      ]
     },
     "execution_count": 4,
     "metadata": {},
     "output_type": "execute_result"
    }
   ],
   "source": [
    "data.shape"
   ]
  },
  {
   "cell_type": "code",
   "execution_count": 5,
   "id": "05071c69",
   "metadata": {
    "execution": {
     "iopub.execute_input": "2024-01-23T15:16:15.052694Z",
     "iopub.status.busy": "2024-01-23T15:16:15.052257Z",
     "iopub.status.idle": "2024-01-23T15:16:15.078643Z",
     "shell.execute_reply": "2024-01-23T15:16:15.077571Z"
    },
    "papermill": {
     "duration": 0.03614,
     "end_time": "2024-01-23T15:16:15.081127",
     "exception": false,
     "start_time": "2024-01-23T15:16:15.044987",
     "status": "completed"
    },
    "tags": []
   },
   "outputs": [
    {
     "data": {
      "text/html": [
       "<div>\n",
       "<style scoped>\n",
       "    .dataframe tbody tr th:only-of-type {\n",
       "        vertical-align: middle;\n",
       "    }\n",
       "\n",
       "    .dataframe tbody tr th {\n",
       "        vertical-align: top;\n",
       "    }\n",
       "\n",
       "    .dataframe thead th {\n",
       "        text-align: right;\n",
       "    }\n",
       "</style>\n",
       "<table border=\"1\" class=\"dataframe\">\n",
       "  <thead>\n",
       "    <tr style=\"text-align: right;\">\n",
       "      <th></th>\n",
       "      <th>age</th>\n",
       "      <th>gender</th>\n",
       "      <th>fever</th>\n",
       "      <th>cough</th>\n",
       "      <th>city</th>\n",
       "      <th>has_covid</th>\n",
       "    </tr>\n",
       "  </thead>\n",
       "  <tbody>\n",
       "    <tr>\n",
       "      <th>0</th>\n",
       "      <td>60</td>\n",
       "      <td>Male</td>\n",
       "      <td>103.0</td>\n",
       "      <td>Mild</td>\n",
       "      <td>Kolkata</td>\n",
       "      <td>No</td>\n",
       "    </tr>\n",
       "    <tr>\n",
       "      <th>1</th>\n",
       "      <td>27</td>\n",
       "      <td>Male</td>\n",
       "      <td>100.0</td>\n",
       "      <td>Mild</td>\n",
       "      <td>Delhi</td>\n",
       "      <td>Yes</td>\n",
       "    </tr>\n",
       "    <tr>\n",
       "      <th>2</th>\n",
       "      <td>42</td>\n",
       "      <td>Male</td>\n",
       "      <td>101.0</td>\n",
       "      <td>Mild</td>\n",
       "      <td>Delhi</td>\n",
       "      <td>No</td>\n",
       "    </tr>\n",
       "    <tr>\n",
       "      <th>3</th>\n",
       "      <td>31</td>\n",
       "      <td>Female</td>\n",
       "      <td>98.0</td>\n",
       "      <td>Mild</td>\n",
       "      <td>Kolkata</td>\n",
       "      <td>No</td>\n",
       "    </tr>\n",
       "    <tr>\n",
       "      <th>4</th>\n",
       "      <td>65</td>\n",
       "      <td>Female</td>\n",
       "      <td>101.0</td>\n",
       "      <td>Mild</td>\n",
       "      <td>Mumbai</td>\n",
       "      <td>No</td>\n",
       "    </tr>\n",
       "  </tbody>\n",
       "</table>\n",
       "</div>"
      ],
      "text/plain": [
       "   age  gender  fever cough     city has_covid\n",
       "0   60    Male  103.0  Mild  Kolkata        No\n",
       "1   27    Male  100.0  Mild    Delhi       Yes\n",
       "2   42    Male  101.0  Mild    Delhi        No\n",
       "3   31  Female   98.0  Mild  Kolkata        No\n",
       "4   65  Female  101.0  Mild   Mumbai        No"
      ]
     },
     "execution_count": 5,
     "metadata": {},
     "output_type": "execute_result"
    }
   ],
   "source": [
    "data.head()"
   ]
  },
  {
   "cell_type": "code",
   "execution_count": 6,
   "id": "231c99cb",
   "metadata": {
    "execution": {
     "iopub.execute_input": "2024-01-23T15:16:15.095021Z",
     "iopub.status.busy": "2024-01-23T15:16:15.094635Z",
     "iopub.status.idle": "2024-01-23T15:16:15.108741Z",
     "shell.execute_reply": "2024-01-23T15:16:15.107558Z"
    },
    "papermill": {
     "duration": 0.02405,
     "end_time": "2024-01-23T15:16:15.111143",
     "exception": false,
     "start_time": "2024-01-23T15:16:15.087093",
     "status": "completed"
    },
    "tags": []
   },
   "outputs": [
    {
     "data": {
      "text/plain": [
       "cough\n",
       "Mild      62\n",
       "Strong    38\n",
       "Name: count, dtype: int64"
      ]
     },
     "execution_count": 6,
     "metadata": {},
     "output_type": "execute_result"
    }
   ],
   "source": [
    "data['cough'].value_counts()"
   ]
  },
  {
   "cell_type": "code",
   "execution_count": 7,
   "id": "518372f9",
   "metadata": {
    "execution": {
     "iopub.execute_input": "2024-01-23T15:16:15.125184Z",
     "iopub.status.busy": "2024-01-23T15:16:15.124505Z",
     "iopub.status.idle": "2024-01-23T15:16:15.133546Z",
     "shell.execute_reply": "2024-01-23T15:16:15.132135Z"
    },
    "papermill": {
     "duration": 0.018747,
     "end_time": "2024-01-23T15:16:15.136029",
     "exception": false,
     "start_time": "2024-01-23T15:16:15.117282",
     "status": "completed"
    },
    "tags": []
   },
   "outputs": [
    {
     "data": {
      "text/plain": [
       "city\n",
       "Kolkata      32\n",
       "Bangalore    30\n",
       "Delhi        22\n",
       "Mumbai       16\n",
       "Name: count, dtype: int64"
      ]
     },
     "execution_count": 7,
     "metadata": {},
     "output_type": "execute_result"
    }
   ],
   "source": [
    "data['city'].value_counts()"
   ]
  },
  {
   "cell_type": "code",
   "execution_count": 8,
   "id": "6e2881da",
   "metadata": {
    "execution": {
     "iopub.execute_input": "2024-01-23T15:16:15.150181Z",
     "iopub.status.busy": "2024-01-23T15:16:15.149778Z",
     "iopub.status.idle": "2024-01-23T15:16:15.158761Z",
     "shell.execute_reply": "2024-01-23T15:16:15.157657Z"
    },
    "papermill": {
     "duration": 0.018807,
     "end_time": "2024-01-23T15:16:15.160932",
     "exception": false,
     "start_time": "2024-01-23T15:16:15.142125",
     "status": "completed"
    },
    "tags": []
   },
   "outputs": [
    {
     "data": {
      "text/plain": [
       "age           0\n",
       "gender        0\n",
       "fever        10\n",
       "cough         0\n",
       "city          0\n",
       "has_covid     0\n",
       "dtype: int64"
      ]
     },
     "execution_count": 8,
     "metadata": {},
     "output_type": "execute_result"
    }
   ],
   "source": [
    "data.isnull().sum()"
   ]
  },
  {
   "cell_type": "code",
   "execution_count": 9,
   "id": "d41a9e09",
   "metadata": {
    "execution": {
     "iopub.execute_input": "2024-01-23T15:16:15.175064Z",
     "iopub.status.busy": "2024-01-23T15:16:15.174679Z",
     "iopub.status.idle": "2024-01-23T15:16:15.187976Z",
     "shell.execute_reply": "2024-01-23T15:16:15.186819Z"
    },
    "papermill": {
     "duration": 0.02291,
     "end_time": "2024-01-23T15:16:15.189962",
     "exception": false,
     "start_time": "2024-01-23T15:16:15.167052",
     "status": "completed"
    },
    "tags": []
   },
   "outputs": [],
   "source": [
    "from sklearn.model_selection import train_test_split\n",
    "\n",
    "x_train,x_test,y_train,y_test = train_test_split(data.drop(columns=['has_covid'],axis=1),\n",
    "                                                 data['has_covid'], \n",
    "                                                 test_size=0.2)"
   ]
  },
  {
   "cell_type": "code",
   "execution_count": 10,
   "id": "56bacfa0",
   "metadata": {
    "execution": {
     "iopub.execute_input": "2024-01-23T15:16:15.204338Z",
     "iopub.status.busy": "2024-01-23T15:16:15.203899Z",
     "iopub.status.idle": "2024-01-23T15:16:15.220465Z",
     "shell.execute_reply": "2024-01-23T15:16:15.219371Z"
    },
    "papermill": {
     "duration": 0.026816,
     "end_time": "2024-01-23T15:16:15.223065",
     "exception": false,
     "start_time": "2024-01-23T15:16:15.196249",
     "status": "completed"
    },
    "tags": []
   },
   "outputs": [
    {
     "data": {
      "text/html": [
       "<div>\n",
       "<style scoped>\n",
       "    .dataframe tbody tr th:only-of-type {\n",
       "        vertical-align: middle;\n",
       "    }\n",
       "\n",
       "    .dataframe tbody tr th {\n",
       "        vertical-align: top;\n",
       "    }\n",
       "\n",
       "    .dataframe thead th {\n",
       "        text-align: right;\n",
       "    }\n",
       "</style>\n",
       "<table border=\"1\" class=\"dataframe\">\n",
       "  <thead>\n",
       "    <tr style=\"text-align: right;\">\n",
       "      <th></th>\n",
       "      <th>age</th>\n",
       "      <th>gender</th>\n",
       "      <th>fever</th>\n",
       "      <th>cough</th>\n",
       "      <th>city</th>\n",
       "    </tr>\n",
       "  </thead>\n",
       "  <tbody>\n",
       "    <tr>\n",
       "      <th>54</th>\n",
       "      <td>60</td>\n",
       "      <td>Female</td>\n",
       "      <td>99.0</td>\n",
       "      <td>Mild</td>\n",
       "      <td>Mumbai</td>\n",
       "    </tr>\n",
       "    <tr>\n",
       "      <th>86</th>\n",
       "      <td>25</td>\n",
       "      <td>Male</td>\n",
       "      <td>104.0</td>\n",
       "      <td>Mild</td>\n",
       "      <td>Bangalore</td>\n",
       "    </tr>\n",
       "    <tr>\n",
       "      <th>27</th>\n",
       "      <td>33</td>\n",
       "      <td>Female</td>\n",
       "      <td>102.0</td>\n",
       "      <td>Strong</td>\n",
       "      <td>Delhi</td>\n",
       "    </tr>\n",
       "    <tr>\n",
       "      <th>56</th>\n",
       "      <td>71</td>\n",
       "      <td>Male</td>\n",
       "      <td>NaN</td>\n",
       "      <td>Strong</td>\n",
       "      <td>Kolkata</td>\n",
       "    </tr>\n",
       "    <tr>\n",
       "      <th>80</th>\n",
       "      <td>14</td>\n",
       "      <td>Female</td>\n",
       "      <td>99.0</td>\n",
       "      <td>Mild</td>\n",
       "      <td>Mumbai</td>\n",
       "    </tr>\n",
       "    <tr>\n",
       "      <th>...</th>\n",
       "      <td>...</td>\n",
       "      <td>...</td>\n",
       "      <td>...</td>\n",
       "      <td>...</td>\n",
       "      <td>...</td>\n",
       "    </tr>\n",
       "    <tr>\n",
       "      <th>41</th>\n",
       "      <td>82</td>\n",
       "      <td>Male</td>\n",
       "      <td>NaN</td>\n",
       "      <td>Mild</td>\n",
       "      <td>Kolkata</td>\n",
       "    </tr>\n",
       "    <tr>\n",
       "      <th>76</th>\n",
       "      <td>80</td>\n",
       "      <td>Male</td>\n",
       "      <td>100.0</td>\n",
       "      <td>Mild</td>\n",
       "      <td>Bangalore</td>\n",
       "    </tr>\n",
       "    <tr>\n",
       "      <th>25</th>\n",
       "      <td>23</td>\n",
       "      <td>Male</td>\n",
       "      <td>NaN</td>\n",
       "      <td>Mild</td>\n",
       "      <td>Mumbai</td>\n",
       "    </tr>\n",
       "    <tr>\n",
       "      <th>15</th>\n",
       "      <td>70</td>\n",
       "      <td>Male</td>\n",
       "      <td>103.0</td>\n",
       "      <td>Strong</td>\n",
       "      <td>Kolkata</td>\n",
       "    </tr>\n",
       "    <tr>\n",
       "      <th>74</th>\n",
       "      <td>34</td>\n",
       "      <td>Female</td>\n",
       "      <td>104.0</td>\n",
       "      <td>Strong</td>\n",
       "      <td>Delhi</td>\n",
       "    </tr>\n",
       "  </tbody>\n",
       "</table>\n",
       "<p>80 rows × 5 columns</p>\n",
       "</div>"
      ],
      "text/plain": [
       "    age  gender  fever   cough       city\n",
       "54   60  Female   99.0    Mild     Mumbai\n",
       "86   25    Male  104.0    Mild  Bangalore\n",
       "27   33  Female  102.0  Strong      Delhi\n",
       "56   71    Male    NaN  Strong    Kolkata\n",
       "80   14  Female   99.0    Mild     Mumbai\n",
       "..  ...     ...    ...     ...        ...\n",
       "41   82    Male    NaN    Mild    Kolkata\n",
       "76   80    Male  100.0    Mild  Bangalore\n",
       "25   23    Male    NaN    Mild     Mumbai\n",
       "15   70    Male  103.0  Strong    Kolkata\n",
       "74   34  Female  104.0  Strong      Delhi\n",
       "\n",
       "[80 rows x 5 columns]"
      ]
     },
     "execution_count": 10,
     "metadata": {},
     "output_type": "execute_result"
    }
   ],
   "source": [
    "x_train"
   ]
  },
  {
   "cell_type": "markdown",
   "id": "ba665c24",
   "metadata": {
    "papermill": {
     "duration": 0.006079,
     "end_time": "2024-01-23T15:16:15.235689",
     "exception": false,
     "start_time": "2024-01-23T15:16:15.229610",
     "status": "completed"
    },
    "tags": []
   },
   "source": [
    "# Mentos Zindagi V/s Aam Zindagi"
   ]
  },
  {
   "cell_type": "markdown",
   "id": "15c0d3ed",
   "metadata": {
    "papermill": {
     "duration": 0.006065,
     "end_time": "2024-01-23T15:16:15.248685",
     "exception": false,
     "start_time": "2024-01-23T15:16:15.242620",
     "status": "completed"
    },
    "tags": []
   },
   "source": [
    "# Aam Zindagi"
   ]
  },
  {
   "cell_type": "code",
   "execution_count": 11,
   "id": "1ff5c9a4",
   "metadata": {
    "execution": {
     "iopub.execute_input": "2024-01-23T15:16:15.263059Z",
     "iopub.status.busy": "2024-01-23T15:16:15.262640Z",
     "iopub.status.idle": "2024-01-23T15:16:15.282138Z",
     "shell.execute_reply": "2024-01-23T15:16:15.281316Z"
    },
    "papermill": {
     "duration": 0.029249,
     "end_time": "2024-01-23T15:16:15.284308",
     "exception": false,
     "start_time": "2024-01-23T15:16:15.255059",
     "status": "completed"
    },
    "tags": []
   },
   "outputs": [
    {
     "data": {
      "text/plain": [
       "(80, 1)"
      ]
     },
     "execution_count": 11,
     "metadata": {},
     "output_type": "execute_result"
    }
   ],
   "source": [
    "# Simple Imputer\n",
    "\n",
    "si = SimpleImputer()\n",
    "\n",
    "x_train_fever = si.fit_transform(x_train[['fever']])\n",
    "\n",
    "x_test_fever = si.fit_transform(x_test[['fever']])\n",
    "\n",
    "x_train_fever.shape"
   ]
  },
  {
   "cell_type": "code",
   "execution_count": 12,
   "id": "e3a00038",
   "metadata": {
    "execution": {
     "iopub.execute_input": "2024-01-23T15:16:15.299564Z",
     "iopub.status.busy": "2024-01-23T15:16:15.299110Z",
     "iopub.status.idle": "2024-01-23T15:16:15.308393Z",
     "shell.execute_reply": "2024-01-23T15:16:15.307311Z"
    },
    "papermill": {
     "duration": 0.019472,
     "end_time": "2024-01-23T15:16:15.310559",
     "exception": false,
     "start_time": "2024-01-23T15:16:15.291087",
     "status": "completed"
    },
    "tags": []
   },
   "outputs": [
    {
     "data": {
      "text/plain": [
       "(80, 1)"
      ]
     },
     "execution_count": 12,
     "metadata": {},
     "output_type": "execute_result"
    }
   ],
   "source": [
    "# Extracting age\n",
    "\n",
    "x_train_age = x_train.drop(columns=['gender','fever','cough','city']).values\n",
    "\n",
    "x_test_age = x_test.drop(columns=['gender','fever','cough','city']).values\n",
    "\n",
    "x_train_age.shape"
   ]
  },
  {
   "cell_type": "code",
   "execution_count": 13,
   "id": "1a085066",
   "metadata": {
    "execution": {
     "iopub.execute_input": "2024-01-23T15:16:15.325770Z",
     "iopub.status.busy": "2024-01-23T15:16:15.325315Z",
     "iopub.status.idle": "2024-01-23T15:16:15.337409Z",
     "shell.execute_reply": "2024-01-23T15:16:15.336306Z"
    },
    "papermill": {
     "duration": 0.022546,
     "end_time": "2024-01-23T15:16:15.339711",
     "exception": false,
     "start_time": "2024-01-23T15:16:15.317165",
     "status": "completed"
    },
    "tags": []
   },
   "outputs": [
    {
     "data": {
      "text/plain": [
       "(80, 1)"
      ]
     },
     "execution_count": 13,
     "metadata": {},
     "output_type": "execute_result"
    }
   ],
   "source": [
    "# Ordinal Encoding\n",
    "\n",
    "oe = OrdinalEncoder(categories=[['Mild','Strong']])\n",
    "\n",
    "x_train_cough = oe.fit_transform(x_train[['cough']])\n",
    "\n",
    "x_test_cough = oe.fit_transform(x_test[['cough']])\n",
    "\n",
    "x_train_cough.shape\n"
   ]
  },
  {
   "cell_type": "code",
   "execution_count": 14,
   "id": "44f001bb",
   "metadata": {
    "execution": {
     "iopub.execute_input": "2024-01-23T15:16:15.355923Z",
     "iopub.status.busy": "2024-01-23T15:16:15.355466Z",
     "iopub.status.idle": "2024-01-23T15:16:15.375027Z",
     "shell.execute_reply": "2024-01-23T15:16:15.374172Z"
    },
    "papermill": {
     "duration": 0.030942,
     "end_time": "2024-01-23T15:16:15.377965",
     "exception": false,
     "start_time": "2024-01-23T15:16:15.347023",
     "status": "completed"
    },
    "tags": []
   },
   "outputs": [
    {
     "name": "stderr",
     "output_type": "stream",
     "text": [
      "/opt/conda/lib/python3.10/site-packages/sklearn/preprocessing/_encoders.py:868: FutureWarning: `sparse` was renamed to `sparse_output` in version 1.2 and will be removed in 1.4. `sparse_output` is ignored unless you leave `sparse` to its default value.\n",
      "  warnings.warn(\n",
      "/opt/conda/lib/python3.10/site-packages/sklearn/preprocessing/_encoders.py:868: FutureWarning: `sparse` was renamed to `sparse_output` in version 1.2 and will be removed in 1.4. `sparse_output` is ignored unless you leave `sparse` to its default value.\n",
      "  warnings.warn(\n"
     ]
    },
    {
     "data": {
      "text/plain": [
       "(80, 4)"
      ]
     },
     "execution_count": 14,
     "metadata": {},
     "output_type": "execute_result"
    }
   ],
   "source": [
    "# One Hot Encoding\n",
    "\n",
    "ohe = OneHotEncoder(drop='first', sparse=False)\n",
    "\n",
    "x_train_gc = ohe.fit_transform(x_train[['gender','city']])\n",
    "\n",
    "x_test_gc = ohe.fit_transform(x_test[['gender','city']])\n",
    "\n",
    "x_train_gc.shape"
   ]
  },
  {
   "cell_type": "code",
   "execution_count": 15,
   "id": "b09fdcff",
   "metadata": {
    "execution": {
     "iopub.execute_input": "2024-01-23T15:16:15.393396Z",
     "iopub.status.busy": "2024-01-23T15:16:15.392983Z",
     "iopub.status.idle": "2024-01-23T15:16:15.401268Z",
     "shell.execute_reply": "2024-01-23T15:16:15.400106Z"
    },
    "papermill": {
     "duration": 0.018653,
     "end_time": "2024-01-23T15:16:15.403549",
     "exception": false,
     "start_time": "2024-01-23T15:16:15.384896",
     "status": "completed"
    },
    "tags": []
   },
   "outputs": [
    {
     "data": {
      "text/plain": [
       "(80, 7)"
      ]
     },
     "execution_count": 15,
     "metadata": {},
     "output_type": "execute_result"
    }
   ],
   "source": [
    "# final data\n",
    "\n",
    "x_train_transformed = np.concatenate((x_train_age, \n",
    "                                     x_train_fever,\n",
    "                                     x_train_gc, \n",
    "                                     x_train_cough),\n",
    "                                    axis = 1)\n",
    "\n",
    "x_test_transformed = np.concatenate((x_test_age, \n",
    "                                     x_test_fever,\n",
    "                                     x_test_gc, \n",
    "                                     x_test_cough),\n",
    "                                    axis = 1)\n",
    "\n",
    "x_train_transformed.shape"
   ]
  },
  {
   "cell_type": "markdown",
   "id": "87632f1c",
   "metadata": {
    "papermill": {
     "duration": 0.006626,
     "end_time": "2024-01-23T15:16:15.417298",
     "exception": false,
     "start_time": "2024-01-23T15:16:15.410672",
     "status": "completed"
    },
    "tags": []
   },
   "source": [
    "# Mentos Zindagi"
   ]
  },
  {
   "cell_type": "code",
   "execution_count": 16,
   "id": "92a6c567",
   "metadata": {
    "execution": {
     "iopub.execute_input": "2024-01-23T15:16:15.432936Z",
     "iopub.status.busy": "2024-01-23T15:16:15.432532Z",
     "iopub.status.idle": "2024-01-23T15:16:15.449964Z",
     "shell.execute_reply": "2024-01-23T15:16:15.448815Z"
    },
    "papermill": {
     "duration": 0.02817,
     "end_time": "2024-01-23T15:16:15.452392",
     "exception": false,
     "start_time": "2024-01-23T15:16:15.424222",
     "status": "completed"
    },
    "tags": []
   },
   "outputs": [],
   "source": [
    "from sklearn.compose import ColumnTransformer"
   ]
  },
  {
   "cell_type": "code",
   "execution_count": 17,
   "id": "e48985d7",
   "metadata": {
    "execution": {
     "iopub.execute_input": "2024-01-23T15:16:15.468404Z",
     "iopub.status.busy": "2024-01-23T15:16:15.467988Z",
     "iopub.status.idle": "2024-01-23T15:16:15.472999Z",
     "shell.execute_reply": "2024-01-23T15:16:15.472042Z"
    },
    "papermill": {
     "duration": 0.01571,
     "end_time": "2024-01-23T15:16:15.475352",
     "exception": false,
     "start_time": "2024-01-23T15:16:15.459642",
     "status": "completed"
    },
    "tags": []
   },
   "outputs": [],
   "source": [
    "transformer = ColumnTransformer(transformers=[\n",
    "    ('tnf1',SimpleImputer(),['fever']),\n",
    "    ('tnf2',OrdinalEncoder(categories=[['Mild','Strong']]),['cough']),\n",
    "    ('tnf3',OneHotEncoder(sparse=False,drop='first'),['gender','city'])\n",
    "], remainder='passthrough')"
   ]
  },
  {
   "cell_type": "code",
   "execution_count": 18,
   "id": "608beb47",
   "metadata": {
    "execution": {
     "iopub.execute_input": "2024-01-23T15:16:15.491212Z",
     "iopub.status.busy": "2024-01-23T15:16:15.490804Z",
     "iopub.status.idle": "2024-01-23T15:16:15.509871Z",
     "shell.execute_reply": "2024-01-23T15:16:15.508622Z"
    },
    "papermill": {
     "duration": 0.029774,
     "end_time": "2024-01-23T15:16:15.512184",
     "exception": false,
     "start_time": "2024-01-23T15:16:15.482410",
     "status": "completed"
    },
    "tags": []
   },
   "outputs": [
    {
     "name": "stderr",
     "output_type": "stream",
     "text": [
      "/opt/conda/lib/python3.10/site-packages/sklearn/preprocessing/_encoders.py:868: FutureWarning: `sparse` was renamed to `sparse_output` in version 1.2 and will be removed in 1.4. `sparse_output` is ignored unless you leave `sparse` to its default value.\n",
      "  warnings.warn(\n"
     ]
    },
    {
     "data": {
      "text/plain": [
       "(80, 7)"
      ]
     },
     "execution_count": 18,
     "metadata": {},
     "output_type": "execute_result"
    }
   ],
   "source": [
    "transformer.fit_transform(x_train).shape"
   ]
  },
  {
   "cell_type": "code",
   "execution_count": 19,
   "id": "60836d3a",
   "metadata": {
    "execution": {
     "iopub.execute_input": "2024-01-23T15:16:15.528873Z",
     "iopub.status.busy": "2024-01-23T15:16:15.528225Z",
     "iopub.status.idle": "2024-01-23T15:16:15.546997Z",
     "shell.execute_reply": "2024-01-23T15:16:15.545872Z"
    },
    "papermill": {
     "duration": 0.029984,
     "end_time": "2024-01-23T15:16:15.549708",
     "exception": false,
     "start_time": "2024-01-23T15:16:15.519724",
     "status": "completed"
    },
    "tags": []
   },
   "outputs": [
    {
     "name": "stderr",
     "output_type": "stream",
     "text": [
      "/opt/conda/lib/python3.10/site-packages/sklearn/preprocessing/_encoders.py:868: FutureWarning: `sparse` was renamed to `sparse_output` in version 1.2 and will be removed in 1.4. `sparse_output` is ignored unless you leave `sparse` to its default value.\n",
      "  warnings.warn(\n"
     ]
    },
    {
     "data": {
      "text/plain": [
       "(20, 7)"
      ]
     },
     "execution_count": 19,
     "metadata": {},
     "output_type": "execute_result"
    }
   ],
   "source": [
    "transformer.fit_transform(x_test).shape"
   ]
  },
  {
   "cell_type": "code",
   "execution_count": null,
   "id": "544fd32c",
   "metadata": {
    "papermill": {
     "duration": 0.006935,
     "end_time": "2024-01-23T15:16:15.563979",
     "exception": false,
     "start_time": "2024-01-23T15:16:15.557044",
     "status": "completed"
    },
    "tags": []
   },
   "outputs": [],
   "source": []
  }
 ],
 "metadata": {
  "kaggle": {
   "accelerator": "none",
   "dataSources": [
    {
     "datasetId": 4344711,
     "sourceId": 7464255,
     "sourceType": "datasetVersion"
    }
   ],
   "dockerImageVersionId": 30635,
   "isGpuEnabled": false,
   "isInternetEnabled": true,
   "language": "python",
   "sourceType": "notebook"
  },
  "kernelspec": {
   "display_name": "Python 3",
   "language": "python",
   "name": "python3"
  },
  "language_info": {
   "codemirror_mode": {
    "name": "ipython",
    "version": 3
   },
   "file_extension": ".py",
   "mimetype": "text/x-python",
   "name": "python",
   "nbconvert_exporter": "python",
   "pygments_lexer": "ipython3",
   "version": "3.10.12"
  },
  "papermill": {
   "default_parameters": {},
   "duration": 6.411383,
   "end_time": "2024-01-23T15:16:16.191981",
   "environment_variables": {},
   "exception": null,
   "input_path": "__notebook__.ipynb",
   "output_path": "__notebook__.ipynb",
   "parameters": {},
   "start_time": "2024-01-23T15:16:09.780598",
   "version": "2.4.0"
  }
 },
 "nbformat": 4,
 "nbformat_minor": 5
}
